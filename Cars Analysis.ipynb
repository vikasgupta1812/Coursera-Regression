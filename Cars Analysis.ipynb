{
 "cells": [
  {
   "cell_type": "markdown",
   "metadata": {},
   "source": [
    "---\n",
    "title: CARS Analysis\n",
    "output: pdf_document\n",
    "published: true\n",
    "---\n",
    "This analysis is done to explore a dataset of collection of cars. The main aim is to explore the relationship between a set of variables and miles per galllon. The two questions which needs to be answered are:- \n",
    "\n",
    "1. Is an automatic or manual transmission better for MPG. \n",
    "2. Quantify the MPG difference between automatic and manual transmissions. \n",
    "\n",
    "\n",
    "## Executive summary \n",
    "During this analysis it was found that the transmission type (automatic/ manual) has significant effect on the miles per gallong (mpg) of the vehicle. In addition to transmission, two other variables - `weight` and `qsec` have impact on the `mpg` as well. Keeping other variables constant, Manual transmission is approx. `9.62` mpg more than automatic transmission. \n",
    "\n",
    "\n",
    "\n",
    "##Analysis"
   ]
  },
  {
   "cell_type": "code",
   "execution_count": null,
   "metadata": {},
   "outputs": [],
   "source": [
    "%%R\n",
    "library(ggplot2)"
   ]
  },
  {
   "cell_type": "markdown",
   "metadata": {},
   "source": [
    "load the data."
   ]
  },
  {
   "cell_type": "code",
   "execution_count": null,
   "metadata": {},
   "outputs": [],
   "source": [
    "%%R\n",
    "data(mtcars)\n",
    "attach(mtcars)"
   ]
  },
  {
   "cell_type": "markdown",
   "metadata": {},
   "source": [
    "convert automatic variable to logical type"
   ]
  },
  {
   "cell_type": "code",
   "execution_count": null,
   "metadata": {},
   "outputs": [],
   "source": [
    "%%R\n",
    "mtcars$am  <- as.logical(mtcars$am)"
   ]
  },
  {
   "cell_type": "markdown",
   "metadata": {},
   "source": [
    "summarise automatic and maual cars in the dataset."
   ]
  },
  {
   "cell_type": "code",
   "execution_count": null,
   "metadata": {},
   "outputs": [],
   "source": [
    "%%R\n",
    "summary(mtcars$am)"
   ]
  },
  {
   "cell_type": "markdown",
   "metadata": {},
   "source": [
    "There is no missing value. \n",
    "\n",
    "check the summary of mpg variable."
   ]
  },
  {
   "cell_type": "code",
   "execution_count": null,
   "metadata": {},
   "outputs": [],
   "source": [
    "%%R\n",
    "summary(mtcars$mpg)\n",
    "qplot(mtcars$mpg,binwidth=2)"
   ]
  },
  {
   "cell_type": "markdown",
   "metadata": {},
   "source": [
    "plot boxplot of mpg against the automatic/ manual transmission"
   ]
  },
  {
   "cell_type": "code",
   "execution_count": null,
   "metadata": {},
   "outputs": [],
   "source": [
    "%%R\n",
    "p  <- ggplot(mtcars, aes(am, mpg))\n",
    "p + geom_boxplot()"
   ]
  },
  {
   "cell_type": "markdown",
   "metadata": {},
   "source": [
    "generate the base model with linear regression between mpg and automatic transmission"
   ]
  },
  {
   "cell_type": "code",
   "execution_count": null,
   "metadata": {},
   "outputs": [],
   "source": [
    "%%R\n",
    "modFitbase  <- lm(mpg ~ am, data = mtcars)\n",
    "summary(modFitbase)"
   ]
  },
  {
   "cell_type": "markdown",
   "metadata": {},
   "source": [
    "plot a graph between residual and mpg to see if these two are correlated."
   ]
  },
  {
   "cell_type": "code",
   "execution_count": null,
   "metadata": {},
   "outputs": [],
   "source": [
    "%%R\n",
    "qplot(modFitbase$residuals, mtcars$mpg)"
   ]
  },
  {
   "cell_type": "markdown",
   "metadata": {},
   "source": [
    "The correlation seems to be significant. So Find the correlation between residual and output mpg"
   ]
  },
  {
   "cell_type": "code",
   "execution_count": null,
   "metadata": {},
   "outputs": [],
   "source": [
    "%%R\n",
    "cor(modFitbase$residuals, mtcars$mpg)"
   ]
  },
  {
   "cell_type": "markdown",
   "metadata": {},
   "source": [
    "This correlation is significant. we are missing some other important variables in our model."
   ]
  },
  {
   "cell_type": "code",
   "execution_count": null,
   "metadata": {},
   "outputs": [],
   "source": [
    "%%R\n",
    "modFitall  <- lm(mpg ~ ., data= mtcars)\n",
    "summary(modFitall)"
   ]
  },
  {
   "cell_type": "markdown",
   "metadata": {},
   "source": [
    "By looking at `Pr(>|t|)` value for each variables, we see that `wt`, `am` and `qsec` are three significant variables."
   ]
  },
  {
   "cell_type": "code",
   "execution_count": null,
   "metadata": {},
   "outputs": [],
   "source": [
    "%%R\n",
    "modFit3  <- lm(mpg ~ wt+qsec+am-1, mtcars)\n",
    "summary(modFit3)"
   ]
  },
  {
   "cell_type": "markdown",
   "metadata": {},
   "source": [
    "We can conclude that `am`(transmission type) has significant influence on `mpg` but 'wt'(weight) and `qsec`(1/4 mile time) also influence `mpg`.\n",
    "\n",
    "Below are the residual plots to see the fit of data."
   ]
  },
  {
   "cell_type": "code",
   "execution_count": null,
   "metadata": {},
   "outputs": [],
   "source": [
    "%%R\n",
    "plot(density(resid(modFit3 ))) #A density plot\n",
    "qqnorm(resid(modFit3 )) # A quantile normal plot - good for checking normality\n",
    "qqline(resid(modFit3 ))"
   ]
  }
 ],
 "metadata": {},
 "nbformat": 4,
 "nbformat_minor": 2
}
